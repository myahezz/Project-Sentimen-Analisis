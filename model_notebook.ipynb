{
 "cells": [
  {
   "cell_type": "markdown",
   "id": "02755547-6320-4687-8ece-efb8ee25f8e9",
   "metadata": {},
   "source": [
    "# Import Liblary "
   ]
  },
  {
   "cell_type": "code",
   "execution_count": 2,
   "id": "4ea89672-43fe-4f89-954f-3ad5073dd6a7",
   "metadata": {},
   "outputs": [
    {
     "name": "stderr",
     "output_type": "stream",
     "text": [
      "[nltk_data] Downloading package punkt to C:\\Users\\Wildan\n",
      "[nltk_data]     Septian\\AppData\\Roaming\\nltk_data...\n",
      "[nltk_data]   Package punkt is already up-to-date!\n",
      "[nltk_data] Downloading package stopwords to C:\\Users\\Wildan\n",
      "[nltk_data]     Septian\\AppData\\Roaming\\nltk_data...\n",
      "[nltk_data]   Package stopwords is already up-to-date!\n"
     ]
    },
    {
     "name": "stdout",
     "output_type": "stream",
     "text": [
      "Requirement already satisfied: imbalanced-learn in c:\\users\\wildan septian\\anaconda3\\envs\\sentimen_analisis\\lib\\site-packages (0.13.0)\n",
      "Requirement already satisfied: numpy<3,>=1.24.3 in c:\\users\\wildan septian\\anaconda3\\envs\\sentimen_analisis\\lib\\site-packages (from imbalanced-learn) (1.26.4)\n",
      "Requirement already satisfied: scipy<2,>=1.10.1 in c:\\users\\wildan septian\\anaconda3\\envs\\sentimen_analisis\\lib\\site-packages (from imbalanced-learn) (1.13.1)\n",
      "Requirement already satisfied: scikit-learn<2,>=1.3.2 in c:\\users\\wildan septian\\anaconda3\\envs\\sentimen_analisis\\lib\\site-packages (from imbalanced-learn) (1.6.1)\n",
      "Requirement already satisfied: sklearn-compat<1,>=0.1 in c:\\users\\wildan septian\\anaconda3\\envs\\sentimen_analisis\\lib\\site-packages (from imbalanced-learn) (0.1.3)\n",
      "Requirement already satisfied: joblib<2,>=1.1.1 in c:\\users\\wildan septian\\anaconda3\\envs\\sentimen_analisis\\lib\\site-packages (from imbalanced-learn) (1.4.2)\n",
      "Requirement already satisfied: threadpoolctl<4,>=2.0.0 in c:\\users\\wildan septian\\anaconda3\\envs\\sentimen_analisis\\lib\\site-packages (from imbalanced-learn) (3.6.0)\n"
     ]
    }
   ],
   "source": [
    "# Import Libraries\n",
    "import pandas as pd\n",
    "import numpy as np\n",
    "from sklearn.model_selection import train_test_split\n",
    "from sklearn.preprocessing import LabelEncoder\n",
    "from sklearn.feature_extraction.text import TfidfVectorizer\n",
    "from imblearn.over_sampling import SMOTE\n",
    "from sklearn.svm import SVC\n",
    "from sklearn.ensemble import RandomForestClassifier\n",
    "from sklearn.metrics import classification_report, accuracy_score\n",
    "from nltk.tokenize import word_tokenize\n",
    "from nltk.corpus import stopwords\n",
    "from nltk.stem import PorterStemmer\n",
    "from Sastrawi.Stemmer.StemmerFactory import StemmerFactory\n",
    "from tensorflow.keras.models import Sequential\n",
    "from tensorflow.keras.layers import Embedding, LSTM, Dropout, Dense\n",
    "from tensorflow.keras.callbacks import EarlyStopping, ReduceLROnPlateau\n",
    "from tensorflow.keras.preprocessing.text import Tokenizer\n",
    "from tensorflow.keras.preprocessing.sequence import pad_sequences\n",
    "from joblib import Parallel, delayed\n",
    "from sklearn.feature_extraction.text import TfidfVectorizer\n",
    "from imblearn.over_sampling import SMOTE\n",
    "from collections import Counter\n",
    "\n",
    "import re\n",
    "import string\n",
    "import nltk\n",
    "nltk.download('punkt')\n",
    "nltk.download('stopwords')\n",
    "!pip install imbalanced-learn"
   ]
  },
  {
   "cell_type": "markdown",
   "id": "348ba4e2-2813-4710-a849-55b11d335145",
   "metadata": {},
   "source": [
    "# Memuat Dataset Hasil Scraping"
   ]
  },
  {
   "cell_type": "code",
   "execution_count": 3,
   "id": "46aea7ea-716d-4d67-8e1f-f36972c2a970",
   "metadata": {},
   "outputs": [
    {
     "data": {
      "text/html": [
       "<div>\n",
       "<style scoped>\n",
       "    .dataframe tbody tr th:only-of-type {\n",
       "        vertical-align: middle;\n",
       "    }\n",
       "\n",
       "    .dataframe tbody tr th {\n",
       "        vertical-align: top;\n",
       "    }\n",
       "\n",
       "    .dataframe thead th {\n",
       "        text-align: right;\n",
       "    }\n",
       "</style>\n",
       "<table border=\"1\" class=\"dataframe\">\n",
       "  <thead>\n",
       "    <tr style=\"text-align: right;\">\n",
       "      <th></th>\n",
       "      <th>reviewId</th>\n",
       "      <th>userName</th>\n",
       "      <th>userImage</th>\n",
       "      <th>content</th>\n",
       "      <th>score</th>\n",
       "      <th>thumbsUpCount</th>\n",
       "      <th>reviewCreatedVersion</th>\n",
       "      <th>at</th>\n",
       "      <th>replyContent</th>\n",
       "      <th>repliedAt</th>\n",
       "      <th>appVersion</th>\n",
       "    </tr>\n",
       "  </thead>\n",
       "  <tbody>\n",
       "    <tr>\n",
       "      <th>0</th>\n",
       "      <td>e6b660a4-5978-4918-b13c-dc272ab5af11</td>\n",
       "      <td>Pengguna Google</td>\n",
       "      <td>https://play-lh.googleusercontent.com/EGemoI2N...</td>\n",
       "      <td>Feel game ini kurang, Tolong perbaiki kontrol ...</td>\n",
       "      <td>1</td>\n",
       "      <td>1932</td>\n",
       "      <td>9.4.0</td>\n",
       "      <td>2025-04-22 01:19:44</td>\n",
       "      <td>NaN</td>\n",
       "      <td>NaN</td>\n",
       "      <td>9.4.0</td>\n",
       "    </tr>\n",
       "    <tr>\n",
       "      <th>1</th>\n",
       "      <td>c4e7ea21-f803-4aba-a14e-8f067bd3b499</td>\n",
       "      <td>Pengguna Google</td>\n",
       "      <td>https://play-lh.googleusercontent.com/EGemoI2N...</td>\n",
       "      <td>Game bola penuh dengan kebusukan, script makin...</td>\n",
       "      <td>1</td>\n",
       "      <td>3</td>\n",
       "      <td>9.4.0</td>\n",
       "      <td>2025-04-30 20:06:44</td>\n",
       "      <td>NaN</td>\n",
       "      <td>NaN</td>\n",
       "      <td>9.4.0</td>\n",
       "    </tr>\n",
       "    <tr>\n",
       "      <th>2</th>\n",
       "      <td>0be8bb2f-1a67-403e-b7b3-f261fd0f7509</td>\n",
       "      <td>Pengguna Google</td>\n",
       "      <td>https://play-lh.googleusercontent.com/EGemoI2N...</td>\n",
       "      <td>Sinyal udah 5G (stabil), RAM 12GB dll (khusus ...</td>\n",
       "      <td>1</td>\n",
       "      <td>118</td>\n",
       "      <td>9.4.0</td>\n",
       "      <td>2025-04-27 13:38:51</td>\n",
       "      <td>NaN</td>\n",
       "      <td>NaN</td>\n",
       "      <td>9.4.0</td>\n",
       "    </tr>\n",
       "    <tr>\n",
       "      <th>3</th>\n",
       "      <td>5457adb1-370d-4b85-9395-0ab9cdde7ada</td>\n",
       "      <td>Pengguna Google</td>\n",
       "      <td>https://play-lh.googleusercontent.com/EGemoI2N...</td>\n",
       "      <td>Update yg sekarang kurang memuaskan, banyak Bu...</td>\n",
       "      <td>1</td>\n",
       "      <td>335</td>\n",
       "      <td>9.4.0</td>\n",
       "      <td>2025-04-19 15:19:56</td>\n",
       "      <td>NaN</td>\n",
       "      <td>NaN</td>\n",
       "      <td>9.4.0</td>\n",
       "    </tr>\n",
       "    <tr>\n",
       "      <th>4</th>\n",
       "      <td>af325e7a-153e-41e0-b47f-a109a89399ad</td>\n",
       "      <td>Pengguna Google</td>\n",
       "      <td>https://play-lh.googleusercontent.com/EGemoI2N...</td>\n",
       "      <td>saya bermain game ini sudah hampir 5 tahun pun...</td>\n",
       "      <td>3</td>\n",
       "      <td>114</td>\n",
       "      <td>9.4.0</td>\n",
       "      <td>2025-04-17 19:56:37</td>\n",
       "      <td>NaN</td>\n",
       "      <td>NaN</td>\n",
       "      <td>9.4.0</td>\n",
       "    </tr>\n",
       "  </tbody>\n",
       "</table>\n",
       "</div>"
      ],
      "text/plain": [
       "                               reviewId         userName  \\\n",
       "0  e6b660a4-5978-4918-b13c-dc272ab5af11  Pengguna Google   \n",
       "1  c4e7ea21-f803-4aba-a14e-8f067bd3b499  Pengguna Google   \n",
       "2  0be8bb2f-1a67-403e-b7b3-f261fd0f7509  Pengguna Google   \n",
       "3  5457adb1-370d-4b85-9395-0ab9cdde7ada  Pengguna Google   \n",
       "4  af325e7a-153e-41e0-b47f-a109a89399ad  Pengguna Google   \n",
       "\n",
       "                                           userImage  \\\n",
       "0  https://play-lh.googleusercontent.com/EGemoI2N...   \n",
       "1  https://play-lh.googleusercontent.com/EGemoI2N...   \n",
       "2  https://play-lh.googleusercontent.com/EGemoI2N...   \n",
       "3  https://play-lh.googleusercontent.com/EGemoI2N...   \n",
       "4  https://play-lh.googleusercontent.com/EGemoI2N...   \n",
       "\n",
       "                                             content  score  thumbsUpCount  \\\n",
       "0  Feel game ini kurang, Tolong perbaiki kontrol ...      1           1932   \n",
       "1  Game bola penuh dengan kebusukan, script makin...      1              3   \n",
       "2  Sinyal udah 5G (stabil), RAM 12GB dll (khusus ...      1            118   \n",
       "3  Update yg sekarang kurang memuaskan, banyak Bu...      1            335   \n",
       "4  saya bermain game ini sudah hampir 5 tahun pun...      3            114   \n",
       "\n",
       "  reviewCreatedVersion                   at  replyContent  repliedAt  \\\n",
       "0                9.4.0  2025-04-22 01:19:44           NaN        NaN   \n",
       "1                9.4.0  2025-04-30 20:06:44           NaN        NaN   \n",
       "2                9.4.0  2025-04-27 13:38:51           NaN        NaN   \n",
       "3                9.4.0  2025-04-19 15:19:56           NaN        NaN   \n",
       "4                9.4.0  2025-04-17 19:56:37           NaN        NaN   \n",
       "\n",
       "  appVersion  \n",
       "0      9.4.0  \n",
       "1      9.4.0  \n",
       "2      9.4.0  \n",
       "3      9.4.0  \n",
       "4      9.4.0  "
      ]
     },
     "execution_count": 3,
     "metadata": {},
     "output_type": "execute_result"
    }
   ],
   "source": [
    "# Memuat dataset\n",
    "review_df = pd.read_csv(\"ulasan_efootball2025_full.csv\")\n",
    "review_df.head()"
   ]
  },
  {
   "cell_type": "markdown",
   "id": "9ca0de54-6b07-44c0-8b4e-00e670e92cba",
   "metadata": {},
   "source": [
    "# Data Preprocessing"
   ]
  },
  {
   "cell_type": "code",
   "execution_count": 4,
   "id": "b00ca7e5-4082-4386-a6c8-28c8ac1ceec3",
   "metadata": {},
   "outputs": [
    {
     "name": "stdout",
     "output_type": "stream",
     "text": [
      "<class 'pandas.core.frame.DataFrame'>\n",
      "RangeIndex: 15000 entries, 0 to 14999\n",
      "Data columns (total 11 columns):\n",
      " #   Column                Non-Null Count  Dtype  \n",
      "---  ------                --------------  -----  \n",
      " 0   reviewId              15000 non-null  object \n",
      " 1   userName              15000 non-null  object \n",
      " 2   userImage             15000 non-null  object \n",
      " 3   content               15000 non-null  object \n",
      " 4   score                 15000 non-null  int64  \n",
      " 5   thumbsUpCount         15000 non-null  int64  \n",
      " 6   reviewCreatedVersion  13042 non-null  object \n",
      " 7   at                    15000 non-null  object \n",
      " 8   replyContent          0 non-null      float64\n",
      " 9   repliedAt             0 non-null      float64\n",
      " 10  appVersion            13042 non-null  object \n",
      "dtypes: float64(2), int64(2), object(7)\n",
      "memory usage: 1.3+ MB\n"
     ]
    }
   ],
   "source": [
    "#Melihat tipe data,banyaknya kolom dan baris dari dataset\n",
    "review_df.info()"
   ]
  },
  {
   "cell_type": "code",
   "execution_count": 5,
   "id": "1f29b1f7-bdef-4a93-9ba9-a2fb14adcee9",
   "metadata": {},
   "outputs": [
    {
     "name": "stdout",
     "output_type": "stream",
     "text": [
      "Jumlah Duplikasi data :  0\n"
     ]
    }
   ],
   "source": [
    "# Cek data duplikat\n",
    "print(\"Jumlah Duplikasi data : \" ,review_df.duplicated().sum())"
   ]
  },
  {
   "cell_type": "code",
   "execution_count": 6,
   "id": "0d85eba2-316a-48db-95ee-d03c0ff3e14b",
   "metadata": {},
   "outputs": [],
   "source": [
    "# menghapus kolom yang kosong dan tidak relevan\n",
    "review_df = review_df.drop(columns=[\"replyContent\",\"repliedAt\"])"
   ]
  },
  {
   "cell_type": "code",
   "execution_count": 7,
   "id": "c25740dd-97b3-4c0d-9a92-269824d0a5bc",
   "metadata": {},
   "outputs": [
    {
     "name": "stdout",
     "output_type": "stream",
     "text": [
      "<class 'pandas.core.frame.DataFrame'>\n",
      "RangeIndex: 15000 entries, 0 to 14999\n",
      "Data columns (total 9 columns):\n",
      " #   Column                Non-Null Count  Dtype \n",
      "---  ------                --------------  ----- \n",
      " 0   reviewId              15000 non-null  object\n",
      " 1   userName              15000 non-null  object\n",
      " 2   userImage             15000 non-null  object\n",
      " 3   content               15000 non-null  object\n",
      " 4   score                 15000 non-null  int64 \n",
      " 5   thumbsUpCount         15000 non-null  int64 \n",
      " 6   reviewCreatedVersion  13042 non-null  object\n",
      " 7   at                    15000 non-null  object\n",
      " 8   appVersion            13042 non-null  object\n",
      "dtypes: int64(2), object(7)\n",
      "memory usage: 1.0+ MB\n"
     ]
    },
    {
     "data": {
      "text/html": [
       "<div>\n",
       "<style scoped>\n",
       "    .dataframe tbody tr th:only-of-type {\n",
       "        vertical-align: middle;\n",
       "    }\n",
       "\n",
       "    .dataframe tbody tr th {\n",
       "        vertical-align: top;\n",
       "    }\n",
       "\n",
       "    .dataframe thead th {\n",
       "        text-align: right;\n",
       "    }\n",
       "</style>\n",
       "<table border=\"1\" class=\"dataframe\">\n",
       "  <thead>\n",
       "    <tr style=\"text-align: right;\">\n",
       "      <th></th>\n",
       "      <th>reviewId</th>\n",
       "      <th>userName</th>\n",
       "      <th>userImage</th>\n",
       "      <th>content</th>\n",
       "      <th>score</th>\n",
       "      <th>thumbsUpCount</th>\n",
       "      <th>reviewCreatedVersion</th>\n",
       "      <th>at</th>\n",
       "      <th>appVersion</th>\n",
       "    </tr>\n",
       "  </thead>\n",
       "  <tbody>\n",
       "    <tr>\n",
       "      <th>0</th>\n",
       "      <td>e6b660a4-5978-4918-b13c-dc272ab5af11</td>\n",
       "      <td>Pengguna Google</td>\n",
       "      <td>https://play-lh.googleusercontent.com/EGemoI2N...</td>\n",
       "      <td>Feel game ini kurang, Tolong perbaiki kontrol ...</td>\n",
       "      <td>1</td>\n",
       "      <td>1932</td>\n",
       "      <td>9.4.0</td>\n",
       "      <td>2025-04-22 01:19:44</td>\n",
       "      <td>9.4.0</td>\n",
       "    </tr>\n",
       "    <tr>\n",
       "      <th>1</th>\n",
       "      <td>c4e7ea21-f803-4aba-a14e-8f067bd3b499</td>\n",
       "      <td>Pengguna Google</td>\n",
       "      <td>https://play-lh.googleusercontent.com/EGemoI2N...</td>\n",
       "      <td>Game bola penuh dengan kebusukan, script makin...</td>\n",
       "      <td>1</td>\n",
       "      <td>3</td>\n",
       "      <td>9.4.0</td>\n",
       "      <td>2025-04-30 20:06:44</td>\n",
       "      <td>9.4.0</td>\n",
       "    </tr>\n",
       "    <tr>\n",
       "      <th>2</th>\n",
       "      <td>0be8bb2f-1a67-403e-b7b3-f261fd0f7509</td>\n",
       "      <td>Pengguna Google</td>\n",
       "      <td>https://play-lh.googleusercontent.com/EGemoI2N...</td>\n",
       "      <td>Sinyal udah 5G (stabil), RAM 12GB dll (khusus ...</td>\n",
       "      <td>1</td>\n",
       "      <td>118</td>\n",
       "      <td>9.4.0</td>\n",
       "      <td>2025-04-27 13:38:51</td>\n",
       "      <td>9.4.0</td>\n",
       "    </tr>\n",
       "    <tr>\n",
       "      <th>3</th>\n",
       "      <td>5457adb1-370d-4b85-9395-0ab9cdde7ada</td>\n",
       "      <td>Pengguna Google</td>\n",
       "      <td>https://play-lh.googleusercontent.com/EGemoI2N...</td>\n",
       "      <td>Update yg sekarang kurang memuaskan, banyak Bu...</td>\n",
       "      <td>1</td>\n",
       "      <td>335</td>\n",
       "      <td>9.4.0</td>\n",
       "      <td>2025-04-19 15:19:56</td>\n",
       "      <td>9.4.0</td>\n",
       "    </tr>\n",
       "    <tr>\n",
       "      <th>4</th>\n",
       "      <td>af325e7a-153e-41e0-b47f-a109a89399ad</td>\n",
       "      <td>Pengguna Google</td>\n",
       "      <td>https://play-lh.googleusercontent.com/EGemoI2N...</td>\n",
       "      <td>saya bermain game ini sudah hampir 5 tahun pun...</td>\n",
       "      <td>3</td>\n",
       "      <td>114</td>\n",
       "      <td>9.4.0</td>\n",
       "      <td>2025-04-17 19:56:37</td>\n",
       "      <td>9.4.0</td>\n",
       "    </tr>\n",
       "  </tbody>\n",
       "</table>\n",
       "</div>"
      ],
      "text/plain": [
       "                               reviewId         userName  \\\n",
       "0  e6b660a4-5978-4918-b13c-dc272ab5af11  Pengguna Google   \n",
       "1  c4e7ea21-f803-4aba-a14e-8f067bd3b499  Pengguna Google   \n",
       "2  0be8bb2f-1a67-403e-b7b3-f261fd0f7509  Pengguna Google   \n",
       "3  5457adb1-370d-4b85-9395-0ab9cdde7ada  Pengguna Google   \n",
       "4  af325e7a-153e-41e0-b47f-a109a89399ad  Pengguna Google   \n",
       "\n",
       "                                           userImage  \\\n",
       "0  https://play-lh.googleusercontent.com/EGemoI2N...   \n",
       "1  https://play-lh.googleusercontent.com/EGemoI2N...   \n",
       "2  https://play-lh.googleusercontent.com/EGemoI2N...   \n",
       "3  https://play-lh.googleusercontent.com/EGemoI2N...   \n",
       "4  https://play-lh.googleusercontent.com/EGemoI2N...   \n",
       "\n",
       "                                             content  score  thumbsUpCount  \\\n",
       "0  Feel game ini kurang, Tolong perbaiki kontrol ...      1           1932   \n",
       "1  Game bola penuh dengan kebusukan, script makin...      1              3   \n",
       "2  Sinyal udah 5G (stabil), RAM 12GB dll (khusus ...      1            118   \n",
       "3  Update yg sekarang kurang memuaskan, banyak Bu...      1            335   \n",
       "4  saya bermain game ini sudah hampir 5 tahun pun...      3            114   \n",
       "\n",
       "  reviewCreatedVersion                   at appVersion  \n",
       "0                9.4.0  2025-04-22 01:19:44      9.4.0  \n",
       "1                9.4.0  2025-04-30 20:06:44      9.4.0  \n",
       "2                9.4.0  2025-04-27 13:38:51      9.4.0  \n",
       "3                9.4.0  2025-04-19 15:19:56      9.4.0  \n",
       "4                9.4.0  2025-04-17 19:56:37      9.4.0  "
      ]
     },
     "execution_count": 7,
     "metadata": {},
     "output_type": "execute_result"
    }
   ],
   "source": [
    "review_df.info()\n",
    "review_df.head()"
   ]
  },
  {
   "cell_type": "code",
   "execution_count": 8,
   "id": "9dd87974-46a4-48a7-9a64-02f223451f2b",
   "metadata": {},
   "outputs": [
    {
     "name": "stdout",
     "output_type": "stream",
     "text": [
      "\n",
      "Sebaran skor:\n",
      "score\n",
      "1    6033\n",
      "5    3712\n",
      "3    1806\n",
      "4    1804\n",
      "2    1645\n",
      "Name: count, dtype: int64\n"
     ]
    }
   ],
   "source": [
    "# Menampilkan distribusi jumlah masing-masing nilai pada kolom 'score'\n",
    "print(\"\\nSebaran skor:\")\n",
    "print(review_df['score'].value_counts())"
   ]
  },
  {
   "cell_type": "code",
   "execution_count": 9,
   "id": "5baae821-c5c7-441b-abbe-e60d42f64c05",
   "metadata": {},
   "outputs": [],
   "source": [
    "stop_words = set(stopwords.words('indonesian'))\n",
    "\n",
    "def bersihkan_teks(teks):\n",
    "    teks = teks.lower()  # huruf kecil semua\n",
    "    teks = re.sub(r\"http\\S+|www\\S+|https\\S+\", '', teks)  # hapus URL\n",
    "    teks = re.sub(r'@\\w+|#\\w+', '', teks)  # hapus mention dan hashtag\n",
    "    teks = re.sub(r'\\d+', '', teks)  # hapus angka\n",
    "    teks = teks.translate(str.maketrans('', '', string.punctuation))  # hapus tanda baca\n",
    "    teks = teks.strip()  # hapus spasi di awal/akhir\n",
    "    teks = re.sub(r'\\s+', ' ', teks)  # ganti multiple spasi dengan satu\n",
    "    teks = ' '.join([word for word in teks.split() if word not in stop_words])  # hapus stopword\n",
    "    return teks\n",
    "review_df['cleaned_content'] = review_df['content'].apply(bersihkan_teks)"
   ]
  },
  {
   "cell_type": "code",
   "execution_count": 10,
   "id": "fc59b428-4f06-4962-8dd3-29f34c97a8b7",
   "metadata": {},
   "outputs": [],
   "source": [
    "# Pelabelan Sentimen\n",
    "from textblob import TextBlob\n",
    "\n",
    "# Fungsi untuk menentukan label sentimen dari sebuah teks\n",
    "def tentukan_sentimen(teks):\n",
    "    polaritas = TextBlob(teks).sentiment.polarity  # Hitung skor polaritas dari teks\n",
    "    if polaritas > 0:\n",
    "        return 'positif'  # Jika polaritas lebih dari 0, labelkan sebagai positif\n",
    "    elif polaritas < 0:\n",
    "        return 'negatif'  # Jika polaritas kurang dari 0, labelkan sebagai negatif\n",
    "    else:\n",
    "        return 'netral'   # Jika polaritas sama dengan 0, labelkan sebagai netral\n",
    "\n",
    "# Terapkan fungsi sentimen ke kolom 'cleaned_content' dan simpan hasilnya di kolom 'label'\n",
    "review_df['label'] = review_df['cleaned_content'].apply(tentukan_sentimen)"
   ]
  },
  {
   "cell_type": "code",
   "execution_count": 11,
   "id": "fdda0317-8bc4-40d9-81c3-216898dbcc1e",
   "metadata": {},
   "outputs": [],
   "source": [
    "from sklearn.preprocessing import LabelEncoder\n",
    "from sklearn.model_selection import train_test_split\n",
    "\n",
    "# Encode label (sentimen) menjadi angka\n",
    "y = LabelEncoder().fit_transform(review_df['label'])\n",
    "X = review_df['cleaned_content']\n",
    "\n",
    "# Pisahkan data menjadi data pelatihan dan pengujian\n",
    "X_train_raw, X_test_raw, y_train, y_test = train_test_split(X, y, test_size=0.2, random_state=42, stratify=y)"
   ]
  },
  {
   "cell_type": "markdown",
   "id": "49a81d4a-e105-4b88-9ad5-a67d6415acb6",
   "metadata": {},
   "source": [
    "# Pembuatan Model"
   ]
  },
  {
   "cell_type": "markdown",
   "id": "5424244b-031a-4455-ade0-6288d4de0b50",
   "metadata": {},
   "source": [
    "## SVM"
   ]
  },
  {
   "cell_type": "code",
   "execution_count": 12,
   "id": "14d30817-165c-4e92-beac-c6b95ec1b924",
   "metadata": {},
   "outputs": [
    {
     "name": "stdout",
     "output_type": "stream",
     "text": [
      "Distribusi label setelah SMOTE: Counter({0: 4898, 1: 4898, 2: 4898})\n",
      "\n",
      "Evaluasi Model SVM:\n",
      "Accuracy: 0.9573333333333334\n",
      "              precision    recall  f1-score   support\n",
      "\n",
      "     negatif       0.97      0.95      0.96      1225\n",
      "      netral       0.94      0.99      0.97      1125\n",
      "     positif       0.95      0.90      0.93       650\n",
      "\n",
      "    accuracy                           0.96      3000\n",
      "   macro avg       0.96      0.95      0.95      3000\n",
      "weighted avg       0.96      0.96      0.96      3000\n",
      "\n"
     ]
    }
   ],
   "source": [
    "# Preprocessing untuk model berbasis TF-IDF\n",
    "vectorizer = TfidfVectorizer(max_features=5000)\n",
    "X_train_tfidf = vectorizer.fit_transform(X_train_raw)\n",
    "X_test_tfidf = vectorizer.transform(X_test_raw)\n",
    "\n",
    "# Terapkan SMOTE untuk mengatasi masalah ketidakseimbangan kelas\n",
    "smote = SMOTE(random_state=42)\n",
    "X_train_tfidf_smote, y_train_smote = smote.fit_resample(X_train_tfidf, y_train)\n",
    "\n",
    "print(\"Distribusi label setelah SMOTE:\", Counter(y_train_smote))\n",
    "\n",
    "# Model SVM\n",
    "svm = SVC(kernel='linear', random_state=42)\n",
    "svm.fit(X_train_tfidf_smote, y_train_smote)\n",
    "y_pred_svm = svm.predict(X_test_tfidf)\n",
    "\n",
    "# Evaluasi model SVM\n",
    "accuracy_svm = accuracy_score(y_test, y_pred_svm)\n",
    "print(\"\\nEvaluasi Model SVM:\")\n",
    "print(f\"Accuracy: {accuracy_svm}\")\n",
    "print(classification_report(y_test, y_pred_svm, target_names=['negatif', 'netral', 'positif']))"
   ]
  },
  {
   "cell_type": "markdown",
   "id": "5d0c0fa9-7a55-4fc9-a433-8feb7a95e077",
   "metadata": {},
   "source": [
    "## LogisticRegression"
   ]
  },
  {
   "cell_type": "code",
   "execution_count": 13,
   "id": "cf8cd07d-ac3c-4df7-83f5-9c5c7a1c68e2",
   "metadata": {},
   "outputs": [],
   "source": [
    "from gensim.models import Word2Vec\n",
    "# Tokenisasi untuk Word2Vec\n",
    "sentences = [text.split() for text in review_df['cleaned_content']]\n",
    "w2v_model = Word2Vec(sentences, vector_size=100, window=5, min_count=1, workers=4)\n",
    "\n",
    "# Mengonversi teks menjadi vektor menggunakan Word2Vec\n",
    "def get_word2vec_vectors(texts, model):\n",
    "    vectors = []\n",
    "    for text in texts:\n",
    "        words = text.split()\n",
    "        vec = np.zeros(100)\n",
    "        count = 0\n",
    "        for word in words:\n",
    "            try:\n",
    "                vec += model[word]\n",
    "                count += 1\n",
    "            except KeyError:\n",
    "                continue\n",
    "        if count > 0:\n",
    "            vec /= count\n",
    "        vectors.append(vec)\n",
    "    return np.array(vectors)\n",
    "\n",
    "X_train_w2v = get_word2vec_vectors(X_train_raw, w2v_model.wv)\n",
    "X_test_w2v = get_word2vec_vectors(X_test_raw, w2v_model.wv)\n",
    "\n",
    "# Terapkan SMOTE untuk mengatasi masalah ketidakseimbangan kelas\n",
    "X_train_w2v_smote, y_train_smote = smote.fit_resample(X_train_w2v, y_train)"
   ]
  },
  {
   "cell_type": "code",
   "execution_count": 15,
   "id": "5c77771c-8c92-417f-96b0-7f02ac6d3031",
   "metadata": {},
   "outputs": [
    {
     "name": "stderr",
     "output_type": "stream",
     "text": [
      "C:\\Users\\Wildan Septian\\anaconda3\\envs\\sentimen_analisis\\Lib\\site-packages\\sklearn\\linear_model\\_logistic.py:1247: FutureWarning: 'multi_class' was deprecated in version 1.5 and will be removed in 1.7. From then on, it will always use 'multinomial'. Leave it to its default value to avoid this warning.\n",
      "  warnings.warn(\n"
     ]
    },
    {
     "name": "stdout",
     "output_type": "stream",
     "text": [
      "\n",
      "Evaluasi Model Logistic Regression:\n",
      "Accuracy: 0.7943333333333333\n",
      "              precision    recall  f1-score   support\n",
      "\n",
      "     negatif       0.92      0.82      0.87      1225\n",
      "      netral       0.77      0.83      0.80      1125\n",
      "     positif       0.64      0.68      0.66       650\n",
      "\n",
      "    accuracy                           0.79      3000\n",
      "   macro avg       0.78      0.78      0.78      3000\n",
      "weighted avg       0.80      0.79      0.80      3000\n",
      "\n"
     ]
    }
   ],
   "source": [
    "from sklearn.linear_model import LogisticRegression\n",
    "\n",
    "# Model Logistic Regression\n",
    "lr = LogisticRegression(multi_class='multinomial', solver='lbfgs', max_iter=1000, random_state=42)\n",
    "lr.fit(X_train_w2v_smote, y_train_smote)\n",
    "y_pred_lr = lr.predict(X_test_w2v)\n",
    "# Evaluasi model Logistic Regression\n",
    "accuracy_lr = accuracy_score(y_test, y_pred_lr)\n",
    "print(\"\\nEvaluasi Model Logistic Regression:\")\n",
    "print(f\"Accuracy: {accuracy_lr}\")\n",
    "print(classification_report(y_test, y_pred_lr, target_names=['negatif', 'netral', 'positif']))"
   ]
  },
  {
   "cell_type": "code",
   "execution_count": 16,
   "id": "6489f5c7-c7f5-47c0-96dc-cf8f0fc80558",
   "metadata": {},
   "outputs": [
    {
     "name": "stderr",
     "output_type": "stream",
     "text": [
      "C:\\Users\\Wildan Septian\\anaconda3\\envs\\sentimen_analisis\\Lib\\site-packages\\sklearn\\linear_model\\_logistic.py:1247: FutureWarning: 'multi_class' was deprecated in version 1.5 and will be removed in 1.7. From then on, it will always use 'multinomial'. Leave it to its default value to avoid this warning.\n",
      "  warnings.warn(\n"
     ]
    },
    {
     "name": "stdout",
     "output_type": "stream",
     "text": [
      "Best parameters: {'C': 100, 'max_iter': 2000, 'solver': 'lbfgs'}\n",
      "\n",
      "Evaluasi Model Logistic Regression (Tuned):\n",
      "              precision    recall  f1-score   support\n",
      "\n",
      "     negatif       0.95      0.88      0.91      1225\n",
      "      netral       0.83      0.89      0.86      1125\n",
      "     positif       0.71      0.72      0.72       650\n",
      "\n",
      "    accuracy                           0.85      3000\n",
      "   macro avg       0.83      0.83      0.83      3000\n",
      "weighted avg       0.85      0.85      0.85      3000\n",
      "\n"
     ]
    }
   ],
   "source": [
    "from sklearn.model_selection import GridSearchCV\n",
    "\n",
    "\n",
    "# Terapkan SMOTE untuk mengatasi masalah ketidakseimbangan kelas\n",
    "param_grid = {\n",
    "    'C': [0.01, 0.1, 1, 10, 100],\n",
    "    'solver': ['lbfgs', 'saga'],\n",
    "    'max_iter': [500, 1000, 2000]\n",
    "}\n",
    "\n",
    "grid = GridSearchCV(LogisticRegression(multi_class='multinomial', random_state=42),\n",
    "                    param_grid, cv=3, scoring='accuracy', n_jobs=-1)\n",
    "grid.fit(X_train_w2v_smote, y_train_smote)\n",
    "\n",
    "print(\"Best parameters:\", grid.best_params_)\n",
    "best_lr = grid.best_estimator_\n",
    "y_pred_tuned = best_lr.predict(X_test_w2v)\n",
    "\n",
    "# Evaluasi ulang\n",
    "print(\"\\nEvaluasi Model Logistic Regression (Tuned):\")\n",
    "print(classification_report(y_test, y_pred_tuned, target_names=['negatif', 'netral', 'positif']))"
   ]
  },
  {
   "cell_type": "markdown",
   "id": "03a1b1e4-43db-49d7-9567-d71e10afe674",
   "metadata": {},
   "source": [
    "## LSTM"
   ]
  },
  {
   "cell_type": "code",
   "execution_count": 17,
   "id": "92131f13-87ee-40e8-8c5b-f999bfa471cd",
   "metadata": {},
   "outputs": [
    {
     "name": "stderr",
     "output_type": "stream",
     "text": [
      "C:\\Users\\Wildan Septian\\anaconda3\\envs\\sentimen_analisis\\Lib\\site-packages\\keras\\src\\layers\\core\\embedding.py:90: UserWarning: Argument `input_length` is deprecated. Just remove it.\n",
      "  warnings.warn(\n"
     ]
    },
    {
     "name": "stdout",
     "output_type": "stream",
     "text": [
      "Epoch 1/15\n",
      "\u001b[1m375/375\u001b[0m \u001b[32m━━━━━━━━━━━━━━━━━━━━\u001b[0m\u001b[37m\u001b[0m \u001b[1m27s\u001b[0m 66ms/step - accuracy: 0.6758 - loss: 0.7689 - val_accuracy: 0.9493 - val_loss: 0.1819 - learning_rate: 0.0010\n",
      "Epoch 2/15\n",
      "\u001b[1m375/375\u001b[0m \u001b[32m━━━━━━━━━━━━━━━━━━━━\u001b[0m\u001b[37m\u001b[0m \u001b[1m25s\u001b[0m 68ms/step - accuracy: 0.9620 - loss: 0.1397 - val_accuracy: 0.9587 - val_loss: 0.1724 - learning_rate: 0.0010\n",
      "Epoch 3/15\n",
      "\u001b[1m375/375\u001b[0m \u001b[32m━━━━━━━━━━━━━━━━━━━━\u001b[0m\u001b[37m\u001b[0m \u001b[1m28s\u001b[0m 74ms/step - accuracy: 0.9827 - loss: 0.0705 - val_accuracy: 0.8900 - val_loss: 0.3791 - learning_rate: 0.0010\n",
      "Epoch 4/15\n",
      "\u001b[1m375/375\u001b[0m \u001b[32m━━━━━━━━━━━━━━━━━━━━\u001b[0m\u001b[37m\u001b[0m \u001b[1m26s\u001b[0m 69ms/step - accuracy: 0.9807 - loss: 0.0781 - val_accuracy: 0.9667 - val_loss: 0.1401 - learning_rate: 0.0010\n",
      "Epoch 5/15\n",
      "\u001b[1m375/375\u001b[0m \u001b[32m━━━━━━━━━━━━━━━━━━━━\u001b[0m\u001b[37m\u001b[0m \u001b[1m27s\u001b[0m 71ms/step - accuracy: 0.9913 - loss: 0.0397 - val_accuracy: 0.9680 - val_loss: 0.1315 - learning_rate: 0.0010\n",
      "Epoch 6/15\n",
      "\u001b[1m375/375\u001b[0m \u001b[32m━━━━━━━━━━━━━━━━━━━━\u001b[0m\u001b[37m\u001b[0m \u001b[1m25s\u001b[0m 67ms/step - accuracy: 0.9925 - loss: 0.0255 - val_accuracy: 0.9717 - val_loss: 0.1251 - learning_rate: 0.0010\n",
      "Epoch 7/15\n",
      "\u001b[1m375/375\u001b[0m \u001b[32m━━━━━━━━━━━━━━━━━━━━\u001b[0m\u001b[37m\u001b[0m \u001b[1m26s\u001b[0m 70ms/step - accuracy: 0.9954 - loss: 0.0185 - val_accuracy: 0.9680 - val_loss: 0.1561 - learning_rate: 0.0010\n",
      "Epoch 8/15\n",
      "\u001b[1m375/375\u001b[0m \u001b[32m━━━━━━━━━━━━━━━━━━━━\u001b[0m\u001b[37m\u001b[0m \u001b[1m25s\u001b[0m 68ms/step - accuracy: 0.9935 - loss: 0.0212 - val_accuracy: 0.9717 - val_loss: 0.1488 - learning_rate: 0.0010\n",
      "Epoch 9/15\n",
      "\u001b[1m375/375\u001b[0m \u001b[32m━━━━━━━━━━━━━━━━━━━━\u001b[0m\u001b[37m\u001b[0m \u001b[1m25s\u001b[0m 68ms/step - accuracy: 0.9985 - loss: 0.0052 - val_accuracy: 0.9707 - val_loss: 0.1443 - learning_rate: 2.0000e-04\n",
      "\u001b[1m94/94\u001b[0m \u001b[32m━━━━━━━━━━━━━━━━━━━━\u001b[0m\u001b[37m\u001b[0m \u001b[1m2s\u001b[0m 24ms/step - accuracy: 0.9705 - loss: 0.1213\n",
      "\n",
      "Evaluasi Model LSTM:\n",
      "Accuracy: 0.971666693687439\n"
     ]
    }
   ],
   "source": [
    "# Tokenisasi untuk LSTM\n",
    "max_words = 10000\n",
    "max_len = 100\n",
    "tokenizer = Tokenizer(num_words=max_words)\n",
    "tokenizer.fit_on_texts(X_train_raw)\n",
    "\n",
    "X_train_seq = tokenizer.texts_to_sequences(X_train_raw)\n",
    "X_test_seq = tokenizer.texts_to_sequences(X_test_raw)\n",
    "\n",
    "X_train_pad = pad_sequences(X_train_seq, maxlen=max_len)\n",
    "X_test_pad = pad_sequences(X_test_seq, maxlen=max_len)\n",
    "\n",
    "# One-hot encoding untuk label\n",
    "y_train_cat = pd.get_dummies(y_train).values\n",
    "y_test_cat = pd.get_dummies(y_test).values\n",
    "\n",
    "# Model LSTM\n",
    "# Model LSTM\n",
    "model_lstm = Sequential()\n",
    "model_lstm.add(Embedding(input_dim=max_words, output_dim=128, input_length=max_len))\n",
    "model_lstm.add(LSTM(128))\n",
    "model_lstm.add(Dropout(0.3))\n",
    "model_lstm.add(Dense(3, activation='softmax'))\n",
    "\n",
    "\n",
    "\n",
    "model_lstm.compile(loss='categorical_crossentropy', optimizer='adam', metrics=['accuracy'])\n",
    "\n",
    "# Callback untuk menghentikan pelatihan lebih awal jika tidak ada perbaikan\n",
    "callbacks = [\n",
    "    EarlyStopping(monitor='val_loss', patience=3, restore_best_weights=True),\n",
    "    ReduceLROnPlateau(monitor='val_loss', factor=0.2, patience=2)\n",
    "]\n",
    "\n",
    "history = model_lstm.fit(\n",
    "    X_train_pad, y_train_cat,\n",
    "    epochs=15,\n",
    "    batch_size=32,\n",
    "    validation_data=(X_test_pad, y_test_cat),\n",
    "    callbacks=callbacks\n",
    ")\n",
    "\n",
    "# Evaluasi model LSTM\n",
    "loss, accuracy_lstm = model_lstm.evaluate(X_test_pad, y_test_cat)\n",
    "print(\"\\nEvaluasi Model LSTM:\")\n",
    "print(f\"Accuracy: {accuracy_lstm}\")"
   ]
  }
 ],
 "metadata": {
  "kernelspec": {
   "display_name": "Python (sentimen_analisis)",
   "language": "python",
   "name": "sentimen_analisis"
  },
  "language_info": {
   "codemirror_mode": {
    "name": "ipython",
    "version": 3
   },
   "file_extension": ".py",
   "mimetype": "text/x-python",
   "name": "python",
   "nbconvert_exporter": "python",
   "pygments_lexer": "ipython3",
   "version": "3.12.9"
  }
 },
 "nbformat": 4,
 "nbformat_minor": 5
}
